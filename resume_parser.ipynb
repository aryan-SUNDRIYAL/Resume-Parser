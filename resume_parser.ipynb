{
 "cells": [
  {
   "cell_type": "code",
   "execution_count": 25,
   "id": "0a8d9da0-b701-464d-bd90-7938a3fc643c",
   "metadata": {
    "scrolled": true
   },
   "outputs": [
    {
     "name": "stdout",
     "output_type": "stream",
     "text": [
      "Name: None\n",
      "Phone Numbers: ['8287320423']\n",
      "GitHub Profiles: ['github.com/VinayTiwari786']\n",
      "LinkedIn Profiles: ['linkedin.com/in/vinay--tiwari']\n"
     ]
    }
   ],
   "source": [
    "import re\n",
    "import pdfplumber\n",
    "import nltk\n",
    "from nltk.tokenize import sent_tokenize\n",
    "import spacy\n",
    "nlp = spacy.load(\"en_core_web_sm\")\n",
    "nlp.remove_pipe(\"ner\")\n",
    "\n",
    "def extract_name(doc):\n",
    "    name = None\n",
    "    for ent in doc.ents:\n",
    "        if ent.label_ == \"PERSON\":\n",
    "            name = ent.text\n",
    "            break\n",
    "    return name\n",
    "\n",
    "def extract_contact_info(text):\n",
    "    phone_numbers = re.findall(r'\\b(?:\\d{3}-\\d{2}-\\d{4}|\\d{10})\\b', text)\n",
    "    return phone_numbers\n",
    "\n",
    "def extract_social_profiles(text):\n",
    "    github_profiles = re.findall(r'github\\.com/[\\w.-]+', text, flags=re.IGNORECASE)\n",
    "    linkedin_profiles = re.findall(r'linkedin\\.com/in/[\\w.-]+', text, flags=re.IGNORECASE)\n",
    "    return github_profiles, linkedin_profiles\n",
    "\n",
    "def main():\n",
    "    with pdfplumber.open(\"C V.pdf\") as pdf:\n",
    "        text = \"\"\n",
    "        for page in pdf.pages:\n",
    "            text += page.extract_text()\n",
    "\n",
    "    doc=nlp(text)\n",
    "\n",
    "    sentences = sent_tokenize(text)\n",
    "    name = extract_name(doc)\n",
    "    phone_numbers = extract_contact_info(text)\n",
    "    github_profiles, linkedin_profiles = extract_social_profiles(text)\n",
    "\n",
    "    print(\"Name:\", name)\n",
    "    print(\"Phone Numbers:\", phone_numbers)\n",
    "    print(\"GitHub Profiles:\", github_profiles)\n",
    "    print(\"LinkedIn Profiles:\", linkedin_profiles)\n",
    "\n",
    "if __name__ == \"__main__\":\n",
    "    main()\n"
   ]
  },
  {
   "cell_type": "code",
   "execution_count": null,
   "id": "fe52516c-dcb8-4876-abb1-f20f999d2640",
   "metadata": {},
   "outputs": [],
   "source": []
  },
  {
   "cell_type": "code",
   "execution_count": null,
   "id": "ac96f070-1e87-4ca7-b3dd-1c971e45d123",
   "metadata": {},
   "outputs": [],
   "source": []
  }
 ],
 "metadata": {
  "kernelspec": {
   "display_name": "Python 3 (ipykernel)",
   "language": "python",
   "name": "python3"
  },
  "language_info": {
   "codemirror_mode": {
    "name": "ipython",
    "version": 3
   },
   "file_extension": ".py",
   "mimetype": "text/x-python",
   "name": "python",
   "nbconvert_exporter": "python",
   "pygments_lexer": "ipython3",
   "version": "3.11.4"
  }
 },
 "nbformat": 4,
 "nbformat_minor": 5
}
